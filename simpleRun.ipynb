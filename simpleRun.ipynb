{
 "cells": [
  {
   "cell_type": "markdown",
   "metadata": {},
   "source": [
    "# Terrier-Spark Example Notebook\n",
    "\n",
    "More example notebooks can be found at https://github.com/terrier-org/terrier-spark/tree/master/example_notebooks/toree"
   ]
  },
  {
   "cell_type": "markdown",
   "metadata": {},
   "source": [
    "Firstly, we need to download the dependencies."
   ]
  },
  {
   "cell_type": "code",
   "execution_count": 1,
   "metadata": {},
   "outputs": [
    {
     "name": "stdout",
     "output_type": "stream",
     "text": [
      "Marking org.terrier:terrier-core:5.0 for download\n",
      "Obtained 276 files\n",
      "Marking org.terrier:terrier-spark:0.0.1-SNAPSHOT for download\n",
      "Obtained 336 files\n"
     ]
    }
   ],
   "source": [
    "//This can take a minute or two.\n",
    "%AddDeps org.terrier terrier-core 5.0 --transitive --repository file:/root/.m2/repository --exclude org.slf4j:slf4j-log4j12  \n",
    "%AddDeps org.terrier terrier-spark 0.0.1-SNAPSHOT --repository file:/root/.m2/repository --transitive"
   ]
  },
  {
   "cell_type": "code",
   "execution_count": 2,
   "metadata": {},
   "outputs": [
    {
     "data": {
      "text/plain": [
       "5.0"
      ]
     },
     "execution_count": 2,
     "metadata": {},
     "output_type": "execute_result"
    }
   ],
   "source": [
    "//Lets check we have Terrier downloaded.\n",
    "org.terrier.Version.VERSION"
   ]
  },
  {
   "cell_type": "code",
   "execution_count": 11,
   "metadata": {},
   "outputs": [],
   "source": [
    "//lets import what we need\n",
    "import org.terrier.querying._\n",
    "import org.terrier.spark._\n",
    "import org.terrier.spark.ml._\n",
    "import org.apache.spark.sql.Row\n",
    "import org.apache.spark.sql.types.{StructField,StructType,IntegerType, DoubleType}\n"
   ]
  },
  {
   "cell_type": "code",
   "execution_count": 12,
   "metadata": {},
   "outputs": [
    {
     "data": {
      "text/plain": [
       "indexref = concurrent:/work/indexes/robust04.properties\n",
       "terrierHome = /work/terrier-core/\n"
      ]
     },
     "metadata": {},
     "output_type": "display_data"
    },
    {
     "data": {
      "text/plain": [
       "/work/terrier-core/"
      ]
     },
     "execution_count": 12,
     "metadata": {},
     "output_type": "execute_result"
    }
   ],
   "source": [
    "//change this for the index you used\n",
    "val indexref = IndexRef.of(\"/work/indexes/robust04.properties\")\n",
    "\n",
    "import org.terrier.querying._\n",
    "\n",
    "val terrierHome = \"/work/terrier-core/\""
   ]
  },
  {
   "cell_type": "code",
   "execution_count": 13,
   "metadata": {},
   "outputs": [
    {
     "name": "stdout",
     "output_type": "stream",
     "text": [
      "WARNING: The file terrier.properties was not found at location /etc/terrier.properties\n",
      " Assuming the value of terrier.home from the corresponding system property.\n",
      "Please ensure that the property terrier.home\n",
      "is specified in the file terrier.properties,\n",
      "or as a system property in the command line.\n",
      "TERRIER_HOME=/work/terrier-core/\n",
      "terrier.etc=null\n",
      "TERRIER_HOME=/work/terrier-core/\n",
      "TERRIER_ETC=/work/terrier-core/etc\n"
     ]
    },
    {
     "data": {
      "text/plain": [
       "props = Map(terrier.home -> /work/terrier-core/)\n",
       "model = BM25\n",
       "queryTransform = QueryingTransformer_f0fb7d11c23a\n"
      ]
     },
     "metadata": {},
     "output_type": "display_data"
    },
    {
     "data": {
      "text/plain": [
       "QueryingTransformer_f0fb7d11c23a"
      ]
     },
     "execution_count": 13,
     "metadata": {},
     "output_type": "execute_result"
    }
   ],
   "source": [
    "val props = Map(\"terrier.home\" -> terrierHome)\n",
    "TopicSource.configureTerrier(props)\n",
    "val model = \"BM25\"\n",
    "\n",
    "val queryTransform = new QueryingTransformer()\n",
    "    .setTerrierProperties(props)\n",
    "    .setIndexReference(indexref)\n",
    "    .setSampleModel(model)"
   ]
  },
  {
   "cell_type": "markdown",
   "metadata": {},
   "source": [
    "Lets see if we can get results for an example query"
   ]
  },
  {
   "cell_type": "code",
   "execution_count": 15,
   "metadata": {},
   "outputs": [
    {
     "name": "stdout",
     "output_type": "stream",
     "text": [
      "Querying concurrent:/work/indexes/robust04.properties for 1 queries\n",
      "Got for 999 results total\n"
     ]
    },
    {
     "data": {
      "text/plain": [
       "topics = [qid: string, query: string]\n",
       "results = [qid: string, query: string ... 4 more fields]\n"
      ]
     },
     "metadata": {},
     "output_type": "display_data"
    },
    {
     "data": {
      "text/plain": [
       "[qid: string, query: string ... 4 more fields]"
      ]
     },
     "execution_count": 15,
     "metadata": {},
     "output_type": "execute_result"
    }
   ],
   "source": [
    "val topics = Seq( (\"1\", \"information retrieval\") ).toDF(\"qid\", \"query\")\n",
    "\n",
    "val results = queryTransform.transform(topics)"
   ]
  },
  {
   "cell_type": "code",
   "execution_count": 16,
   "metadata": {},
   "outputs": [
    {
     "data": {
      "text/html": [
       "<table><tr><th>qid</th><th>query</th><th>docno</th><th>docid</th><th>score</th><th>rank</th></tr><tr><td>1</td><td>information retrieval</td><td>FT944-5797</td><td>380365</td><td>6.641416790363148</td><td>998</td></tr><tr><td>1</td><td>information retrieval</td><td>LA072889-0061</td><td>470850</td><td>6.642720463297927</td><td>997</td></tr><tr><td>1</td><td>information retrieval</td><td>LA031889-0131</td><td>423359</td><td>6.642720463297927</td><td>996</td></tr><tr><td>1</td><td>information retrieval</td><td>FT921-2446</td><td>207229</td><td>6.642720463297927</td><td>995</td></tr><tr><td>1</td><td>information retrieval</td><td>FR941202-1-00011</td><td>181568</td><td>6.642720463297927</td><td>994</td></tr><tr><td>1</td><td>information retrieval</td><td>FR940208-1-00060</td><td>135882</td><td>6.642720463297927</td><td>993</td></tr><tr><td>1</td><td>information retrieval</td><td>FT923-5198</td><td>225984</td><td>6.642720463297927</td><td>992</td></tr><tr><td>1</td><td>information retrieval</td><td>FT934-10926</td><td>316028</td><td>6.642720463297927</td><td>991</td></tr><tr><td>1</td><td>information retrieval</td><td>FR940419-2-00056</td><td>145309</td><td>6.650724514777319</td><td>990</td></tr><tr><td>1</td><td>information retrieval</td><td>FT921-3073</td><td>207856</td><td>6.658747878262264</td><td>989</td></tr></table>"
      ]
     },
     "execution_count": 16,
     "metadata": {},
     "output_type": "execute_result"
    }
   ],
   "source": [
    "%%dataframe --limit 10\n",
    "results"
   ]
  },
  {
   "cell_type": "markdown",
   "metadata": {},
   "source": [
    "Now lets do a TREC run"
   ]
  },
  {
   "cell_type": "code",
   "execution_count": 17,
   "metadata": {},
   "outputs": [
    {
     "name": "stdout",
     "output_type": "stream",
     "text": [
      "Querying concurrent:/work/indexes/robust04.properties for 250 queries\n",
      "Got for 242108 results total\n",
      "We have 311410 qrels\n"
     ]
    },
    {
     "data": {
      "text/plain": [
       "topicsFile = file:/topics.robust04.txt\n",
       "qrelsFile = file:/qrels.robust04.txt\n",
       "topics = [qid: string, query: string]\n",
       "r1 = [qid: string, query: string ... 4 more fields]\n",
       "qrelTransform = QrelTransformer_1b5693b67ffa\n",
       "r2 = [qid: string, query: string ... 5 more fields]\n",
       "ndcg = List(0.0, 0.17502679579397282, 0.11854207483654515, 0.03829285746486456, 0.14376931608695356, 0.08111548628241008, 0.16194241901521403, 0.252750465141966, 0.2849008613713492, 0.9157513515137172, 0.0, 0.26281773542943293, 0.1119083378307071, 0.7686972263849642, 0.934380395949751, 0.5116183560038224, 0.3455456406937284, 0.5077199282127245,...\n"
      ]
     },
     "metadata": {},
     "output_type": "display_data"
    },
    {
     "data": {
      "text/plain": [
       "List(0.0, 0.17502679579397282, 0.11854207483654515, 0.03829285746486456, 0.14376931608695356, 0.08111548628241008, 0.16194241901521403, 0.252750465141966, 0.2849008613713492, 0.9157513515137172, 0.0, 0.26281773542943293, 0.1119083378307071, 0.7686972263849642, 0.934380395949751, 0.5116183560038224, 0.3455456406937284, 0.5077199282127245,..."
      ]
     },
     "execution_count": 17,
     "metadata": {},
     "output_type": "execute_result"
    }
   ],
   "source": [
    "\n",
    "//change this for your topics file\n",
    "val topicsFile = \"file:/path/to/topics.txt\"\n",
    "val qrelsFile = \"file:/path/to/qrels.txt\"\n",
    "\n",
    "val topics = TopicSource.extractTRECTopics(topicsFile).toList.toDF(\"qid\", \"query\").repartition(1)\n",
    "\n",
    "val r1 = queryTransform.transform(topics)\n",
    "//r1 is a dataframe with results for queries in topics\n",
    "val qrelTransform = new QrelTransformer()\n",
    "    .setQrelsFile(qrelsFile)\n",
    "\n",
    "val r2 = qrelTransform.transform(r1)\n",
    "//r2 is a dataframe as r1, but also includes a label column\n",
    "val ndcg = new RankingEvaluator(Measure.NDCG, 20).evaluateByQuery(r2).toList\n",
    "\n",
    "val newSchema = StructType(topics.schema.fields ++ Array(StructField(\"ndcg\", DoubleType, false)))\n",
    "val rtr = spark.createDataFrame(topics.rdd.zipWithIndex.map{ case (row, index) => Row.fromSeq(row.toSeq ++ Array(ndcg(index.toInt)))}, newSchema)"
   ]
  },
  {
   "cell_type": "code",
   "execution_count": 18,
   "metadata": {},
   "outputs": [
    {
     "data": {
      "text/html": [
       "<table><tr><th>qid</th><th>query</th><th>ndcg</th></tr><tr><td>301</td><td>international organized crime</td><td>0.0</td></tr><tr><td>302</td><td>poliomyelitis and post polio</td><td>0.17502679579397282</td></tr><tr><td>303</td><td>hubble telescope achievements</td><td>0.11854207483654515</td></tr><tr><td>304</td><td>endangered species mammals</td><td>0.03829285746486456</td></tr><tr><td>305</td><td>most dangerous vehicles</td><td>0.14376931608695356</td></tr><tr><td>306</td><td>african civilian deaths</td><td>0.08111548628241008</td></tr><tr><td>307</td><td>new hydroelectric projects</td><td>0.16194241901521403</td></tr><tr><td>308</td><td>implant dentistry</td><td>0.252750465141966</td></tr><tr><td>309</td><td>rap and crime</td><td>0.2849008613713492</td></tr><tr><td>310</td><td>radio waves and brain cancer</td><td>0.9157513515137172</td></tr></table>"
      ]
     },
     "execution_count": 18,
     "metadata": {},
     "output_type": "execute_result"
    }
   ],
   "source": [
    "%%dataframe\n",
    "rtr"
   ]
  },
  {
   "cell_type": "code",
   "execution_count": null,
   "metadata": {},
   "outputs": [],
   "source": []
  }
 ],
 "metadata": {
  "kernelspec": {
   "display_name": "Apache Toree - Scala",
   "language": "scala",
   "name": "apache_toree_scala"
  },
  "language_info": {
   "codemirror_mode": "text/x-scala",
   "file_extension": ".scala",
   "mimetype": "text/x-scala",
   "name": "scala",
   "pygments_lexer": "scala",
   "version": "2.11.12"
  }
 },
 "nbformat": 4,
 "nbformat_minor": 2
}
