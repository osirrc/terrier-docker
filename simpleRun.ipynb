{
 "cells": [
  {
   "cell_type": "markdown",
   "metadata": {},
   "source": [
    "# Terrier-Spark Example Notebook\n",
    "\n",
    "More example notebooks can be found at https://github.com/terrier-org/terrier-spark/tree/master/example_notebooks/toree"
   ]
  },
  {
   "cell_type": "markdown",
   "metadata": {},
   "source": [
    "Firstly, we need to download the dependencies."
   ]
  },
  {
   "cell_type": "code",
   "execution_count": 1,
   "metadata": {},
   "outputs": [
    {
     "name": "stdout",
     "output_type": "stream",
     "text": [
      "Marking org.terrier:terrier-core:5.0 for download\n",
      "Obtained 295 files\n",
      "Marking org.terrier:terrier-spark:0.0.1-SNAPSHOT for download\n",
      "Obtained 336 files\n"
     ]
    }
   ],
   "source": [
    "//This can take a minute or two.\n",
    "%AddDeps org.terrier terrier-core 5.0 --transitive --repository file:/root/.m2/repository --exclude org.slf4j:slf4j-log4j12  \n",
    "%AddDeps org.terrier terrier-spark 0.0.1-SNAPSHOT --repository file:/root/.m2/repository --transitive"
   ]
  },
  {
   "cell_type": "code",
   "execution_count": 3,
   "metadata": {},
   "outputs": [
    {
     "data": {
      "text/plain": [
       "5.0"
      ]
     },
     "execution_count": 3,
     "metadata": {},
     "output_type": "execute_result"
    }
   ],
   "source": [
    "//Lets check we have Terrier downloaded.\n",
    "org.terrier.Version.VERSION"
   ]
  },
  {
   "cell_type": "markdown",
   "metadata": {},
   "source": [
    "This cell does a TREC run"
   ]
  },
  {
   "cell_type": "code",
   "execution_count": null,
   "metadata": {},
   "outputs": [],
   "source": [
    "val indexref = IndexRef.of(\"/path/to/index/data.properties\")\n",
    "\n",
    "val props = Map(\n",
    "\"terrier.home\" -> terrierHome)\n",
    "\n",
    "TopicSource.configureTerrier(props)\n",
    "val topics = TopicSource.extractTRECTopics(topicsFile)\n",
    "    .toList.toDF(\"qid\", \"query\")\n",
    "\n",
    "val queryTransform = new QueryingTransformer()\n",
    "    .setTerrierProperties(props)\n",
    "    .setIndexReference(indexref)\n",
    "    .setSampleModel(model)\n",
    "\n",
    "val r1 = queryTransform.transform(topics)\n",
    "//r1 is a dataframe with results for queries in topics\n",
    "val qrelTransform = new QrelTransformer()\n",
    "    .setQrelsFile(qrelsFile)\n",
    "\n",
    "val r2 = qrelTransform.transform(r1)\n",
    "//r2 is a dataframe as r1, but also includes a label column\n",
    "val ndcg = new RankingEvaluator(Measure.NDCG, 20).evaluateByQuery(r2).toList\n",
    "\n",
    "ndcg"
   ]
  }
 ],
 "metadata": {
  "kernelspec": {
   "display_name": "Apache Toree - Scala",
   "language": "scala",
   "name": "apache_toree_scala"
  },
  "language_info": {
   "codemirror_mode": "text/x-scala",
   "file_extension": ".scala",
   "mimetype": "text/x-scala",
   "name": "scala",
   "pygments_lexer": "scala",
   "version": "2.11.12"
  }
 },
 "nbformat": 4,
 "nbformat_minor": 2
}
